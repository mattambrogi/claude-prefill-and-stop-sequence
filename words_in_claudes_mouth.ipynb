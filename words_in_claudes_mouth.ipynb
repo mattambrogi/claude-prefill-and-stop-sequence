{
  "nbformat": 4,
  "nbformat_minor": 0,
  "metadata": {
    "colab": {
      "provenance": [],
      "authorship_tag": "ABX9TyMgoyvuaRMIkcMEBJruHp/Q",
      "include_colab_link": true
    },
    "kernelspec": {
      "name": "python3",
      "display_name": "Python 3"
    },
    "language_info": {
      "name": "python"
    }
  },
  "cells": [
    {
      "cell_type": "markdown",
      "metadata": {
        "id": "view-in-github",
        "colab_type": "text"
      },
      "source": [
        "<a href=\"https://colab.research.google.com/github/mattambrogi/claude-prefill-and-stop-sequence/blob/main/words_in_claudes_mouth.ipynb\" target=\"_parent\"><img src=\"https://colab.research.google.com/assets/colab-badge.svg\" alt=\"Open In Colab\"/></a>"
      ]
    },
    {
      "cell_type": "markdown",
      "source": [
        "# Utilizing Claude's Prefill ability for more reliable formatting"
      ],
      "metadata": {
        "id": "g9C70FjgOitA"
      }
    },
    {
      "cell_type": "code",
      "source": [
        "!pip install anthropic"
      ],
      "metadata": {
        "id": "2o0Cya_sKFmt"
      },
      "execution_count": null,
      "outputs": []
    },
    {
      "cell_type": "code",
      "source": [
        "import os\n",
        "os.environ[\"ANTHROPIC_API_KEY\"] = \"\""
      ],
      "metadata": {
        "id": "t1X-FM1OKGjY"
      },
      "execution_count": null,
      "outputs": []
    },
    {
      "cell_type": "code",
      "execution_count": null,
      "metadata": {
        "id": "CsENWhbrJ-Vt"
      },
      "outputs": [],
      "source": [
        "import anthropic\n",
        "\n",
        "client = anthropic.Anthropic()"
      ]
    },
    {
      "cell_type": "code",
      "source": [
        "import json"
      ],
      "metadata": {
        "id": "znE2nLQ_N9EL"
      },
      "execution_count": null,
      "outputs": []
    },
    {
      "cell_type": "code",
      "source": [
        "def pretty_print_json(message):\n",
        "  response_text = message.content[0].text\n",
        "  recovered_json_response = f'[{response_text}'\n",
        "\n",
        "  # Parse the JSON string\n",
        "  try:\n",
        "      parsed_json = json.loads(recovered_json_response)\n",
        "\n",
        "      # Print the formatted JSON\n",
        "      return json.dumps(parsed_json, indent=2)\n",
        "  except json.JSONDecodeError as e:\n",
        "      error_message = f\"Error parsing JSON: {e} Original content: {response_text}\"\n",
        "      return error_message"
      ],
      "metadata": {
        "id": "z1Q51oj1N5k8"
      },
      "execution_count": null,
      "outputs": []
    },
    {
      "cell_type": "markdown",
      "source": [
        "**Prompt**\n",
        "\n",
        "I have an API endpoint that returns Todos for a Todo application. Here is an example of the response:\n",
        "\n",
        "<example>\n",
        "[\n",
        "  {\n",
        "    \"userId\": 2,\n",
        "    \"id\": 12,\n",
        "    \"title\": \"in quibusdam tempore odit est dolorem\",\n",
        "    \"body\": \"itaque id aut magnam\\npraesentium quia et ea odit et ea voluptas et\\nsapiente quia nihil amet occaecati quia id voluptatem\\nincidunt ea est distinctio odio\"\n",
        "  },\n",
        "  {\n",
        "    \"userId\": 2,\n",
        "    \"id\": 13,\n",
        "    \"title\": \"dolorum ut in voluptas mollitia et saepe quo animi\",\n",
        "    \"body\": \"aut dicta possimus sint mollitia voluptas commodi quo doloremque\\niste corrupti reiciendis voluptatem eius rerum\\nsit cumque quod eligendi laborum minima\\nperferendis recusandae assumenda consectetur porro architecto ipsum ipsam\"\n",
        "  }\n",
        "]\n",
        "</example>\n",
        "\n",
        "Can you help me generate five more examples? Here are more specific instructions:\n",
        "\n",
        "<instructions>\n",
        "* Generate 5 todos following the schema above\n",
        "* Vary the userId between 1 and 5 randomly\n",
        "* Please make the titles and body's real sentences that might be on someone who has chores around the house's todo list for the day\n",
        "</instructions>"
      ],
      "metadata": {
        "id": "EH6IQwFeNdtq"
      }
    },
    {
      "cell_type": "markdown",
      "source": [
        "## Without pre-fill"
      ],
      "metadata": {
        "id": "tKx2OmVxNwrt"
      }
    },
    {
      "cell_type": "code",
      "source": [
        "message = client.messages.create(\n",
        "    model=\"claude-3-5-sonnet-20240620\",\n",
        "    max_tokens=1000,\n",
        "    temperature=0.1,\n",
        "    messages=[\n",
        "        {\n",
        "            \"role\": \"user\",\n",
        "            \"content\": [\n",
        "                {\n",
        "                    \"type\": \"text\",\n",
        "                    \"text\": \"I have an API endpoint that returns Todos for a Todo application. Here is an example of the response:\\n\\n<example>\\n[\\n  {\\n    \\\"userId\\\": 2,\\n    \\\"id\\\": 12,\\n    \\\"title\\\": \\\"in quibusdam tempore odit est dolorem\\\",\\n    \\\"body\\\": \\\"itaque id aut magnam\\\\npraesentium quia et ea odit et ea voluptas et\\\\nsapiente quia nihil amet occaecati quia id voluptatem\\\\nincidunt ea est distinctio odio\\\"\\n  },\\n  {\\n    \\\"userId\\\": 2,\\n    \\\"id\\\": 13,\\n    \\\"title\\\": \\\"dolorum ut in voluptas mollitia et saepe quo animi\\\",\\n    \\\"body\\\": \\\"aut dicta possimus sint mollitia voluptas commodi quo doloremque\\\\niste corrupti reiciendis voluptatem eius rerum\\\\nsit cumque quod eligendi laborum minima\\\\nperferendis recusandae assumenda consectetur porro architecto ipsum ipsam\\\"\\n  }\\n]\\n</example>\\n\\nCan you help me generate five more examples? Here are more specific instructions:\\n\\n<instructions>\\n* Generate 5 todos following the schema above\\n* Vary the userId between 1 and 5 randomly\\n* Please make the titles and body's real sentences that might be on someone who has chores around the house's todo list for the day \\n</instructions>\"\n",
        "                }\n",
        "            ]\n",
        "        }\n",
        "    ]\n",
        ")\n",
        "print(message.content)"
      ],
      "metadata": {
        "colab": {
          "base_uri": "https://localhost:8080/"
        },
        "id": "OJLNAJHmN0EZ",
        "outputId": "3ef76283-51b7-415b-a5a9-44e1b3cfc6c6"
      },
      "execution_count": null,
      "outputs": [
        {
          "output_type": "stream",
          "name": "stdout",
          "text": [
            "[TextBlock(text='Certainly! Here are 5 more examples of todos following the schema and instructions you provided:\\n\\n[\\n  {\\n    \"userId\": 3,\\n    \"id\": 14,\\n    \"title\": \"Clean the kitchen and organize pantry\",\\n    \"body\": \"Wipe down all countertops and appliances. Sweep and mop the floor. Sort through pantry items, discard expired products, and reorganize shelves for better accessibility. Make a list of groceries needed for restocking.\"\\n  },\\n  {\\n    \"userId\": 1,\\n    \"id\": 15,\\n    \"title\": \"Mow the lawn and trim hedges\",\\n    \"body\": \"Start by mowing the front and back lawns. Adjust mower height for optimal grass health. Use hedge trimmers to shape bushes and maintain a neat appearance. Rake and dispose of grass clippings and hedge trimmings.\"\\n  },\\n  {\\n    \"userId\": 5,\\n    \"id\": 16,\\n    \"title\": \"Do laundry and iron clothes for the week\",\\n    \"body\": \"Sort clothes by color and fabric type. Wash and dry all loads. Fold and put away casual clothes. Iron work shirts and pants for the upcoming week. Remember to clean lint filter in dryer after use.\"\\n  },\\n  {\\n    \"userId\": 2,\\n    \"id\": 17,\\n    \"title\": \"Fix leaky faucet in guest bathroom\",\\n    \"body\": \"Gather necessary tools: adjustable wrench, screwdriver, and replacement washers. Turn off water supply to the faucet. Disassemble faucet, replace worn washers, and reassemble. Test for leaks and proper function after repair.\"\\n  },\\n  {\\n    \"userId\": 4,\\n    \"id\": 18,\\n    \"title\": \"Prepare healthy meals for the week\",\\n    \"body\": \"Plan a menu for weekday lunches and dinners. Shop for fresh ingredients and storage containers. Cook and portion out meals for easy reheating throughout the week. Include a variety of proteins, vegetables, and whole grains for balanced nutrition.\"\\n  }\\n]', type='text')]\n"
          ]
        }
      ]
    },
    {
      "cell_type": "markdown",
      "source": [
        "**We don't want the \"Certainly!...**"
      ],
      "metadata": {
        "id": "zmh-MPL_Ph3J"
      }
    },
    {
      "cell_type": "code",
      "source": [
        "print(pretty_print_json(message))"
      ],
      "metadata": {
        "colab": {
          "base_uri": "https://localhost:8080/"
        },
        "id": "bHqLYVrXOJV1",
        "outputId": "fda70c69-f194-43f1-b6f2-81ae966d65d8"
      },
      "execution_count": null,
      "outputs": [
        {
          "output_type": "stream",
          "name": "stdout",
          "text": [
            "Error parsing JSON: Expecting value: line 1 column 2 (char 1) Original content: Certainly! Here are 5 more examples of todos following the schema and instructions you provided:\n",
            "\n",
            "[\n",
            "  {\n",
            "    \"userId\": 3,\n",
            "    \"id\": 14,\n",
            "    \"title\": \"Clean the kitchen and organize pantry\",\n",
            "    \"body\": \"Wipe down all countertops and appliances. Sweep and mop the floor. Sort through pantry items, discard expired products, and reorganize shelves for better accessibility. Make a list of groceries needed for restocking.\"\n",
            "  },\n",
            "  {\n",
            "    \"userId\": 1,\n",
            "    \"id\": 15,\n",
            "    \"title\": \"Mow the lawn and trim hedges\",\n",
            "    \"body\": \"Start by mowing the front and back lawns. Adjust mower height for optimal grass health. Use hedge trimmers to shape bushes and maintain a neat appearance. Rake and dispose of grass clippings and hedge trimmings.\"\n",
            "  },\n",
            "  {\n",
            "    \"userId\": 5,\n",
            "    \"id\": 16,\n",
            "    \"title\": \"Do laundry and iron clothes for the week\",\n",
            "    \"body\": \"Sort clothes by color and fabric type. Wash and dry all loads. Fold and put away casual clothes. Iron work shirts and pants for the upcoming week. Remember to clean lint filter in dryer after use.\"\n",
            "  },\n",
            "  {\n",
            "    \"userId\": 2,\n",
            "    \"id\": 17,\n",
            "    \"title\": \"Fix leaky faucet in guest bathroom\",\n",
            "    \"body\": \"Gather necessary tools: adjustable wrench, screwdriver, and replacement washers. Turn off water supply to the faucet. Disassemble faucet, replace worn washers, and reassemble. Test for leaks and proper function after repair.\"\n",
            "  },\n",
            "  {\n",
            "    \"userId\": 4,\n",
            "    \"id\": 18,\n",
            "    \"title\": \"Prepare healthy meals for the week\",\n",
            "    \"body\": \"Plan a menu for weekday lunches and dinners. Shop for fresh ingredients and storage containers. Cook and portion out meals for easy reheating throughout the week. Include a variety of proteins, vegetables, and whole grains for balanced nutrition.\"\n",
            "  }\n",
            "]\n"
          ]
        }
      ]
    },
    {
      "cell_type": "markdown",
      "source": [
        "## With pre-fill"
      ],
      "metadata": {
        "id": "_jzy2aC4Nu8i"
      }
    },
    {
      "cell_type": "code",
      "source": [
        "message = client.messages.create(\n",
        "    model=\"claude-3-5-sonnet-20240620\",\n",
        "    max_tokens=1000,\n",
        "    temperature=0.1,\n",
        "    messages=[\n",
        "        {\n",
        "            \"role\": \"user\",\n",
        "            \"content\": [\n",
        "                {\n",
        "                    \"type\": \"text\",\n",
        "                    \"text\": \"I have an API endpoint that returns Todos for a Todo application. Here is an example of the response:\\n\\n<example>\\n[\\n  {\\n    \\\"userId\\\": 2,\\n    \\\"id\\\": 12,\\n    \\\"title\\\": \\\"in quibusdam tempore odit est dolorem\\\",\\n    \\\"body\\\": \\\"itaque id aut magnam\\\\npraesentium quia et ea odit et ea voluptas et\\\\nsapiente quia nihil amet occaecati quia id voluptatem\\\\nincidunt ea est distinctio odio\\\"\\n  },\\n  {\\n    \\\"userId\\\": 2,\\n    \\\"id\\\": 13,\\n    \\\"title\\\": \\\"dolorum ut in voluptas mollitia et saepe quo animi\\\",\\n    \\\"body\\\": \\\"aut dicta possimus sint mollitia voluptas commodi quo doloremque\\\\niste corrupti reiciendis voluptatem eius rerum\\\\nsit cumque quod eligendi laborum minima\\\\nperferendis recusandae assumenda consectetur porro architecto ipsum ipsam\\\"\\n  }\\n]\\n</example>\\n\\nCan you help me generate five more examples? Here are more specific instructions:\\n\\n<instructions>\\n* Generate 5 todos following the schema above\\n* Vary the userId between 1 and 5 randomly\\n* Please make the titles and body's real sentences that might be on someone who has chores around the house's todo list for the day \\n</instructions>\"\n",
        "                }\n",
        "            ]\n",
        "        },\n",
        "        {\n",
        "            \"role\": \"assistant\",\n",
        "            \"content\": [\n",
        "                {\n",
        "                    \"type\": \"text\",\n",
        "                    \"text\": \"[\"\n",
        "                }\n",
        "            ]\n",
        "        }\n",
        "    ]\n",
        ")"
      ],
      "metadata": {
        "id": "6YhPmTf0KPpq"
      },
      "execution_count": null,
      "outputs": []
    },
    {
      "cell_type": "markdown",
      "source": [
        "**No more \"Certainly!...**"
      ],
      "metadata": {
        "id": "CGUju_6IPwVs"
      }
    },
    {
      "cell_type": "code",
      "source": [
        "print(pretty_print_json(message))"
      ],
      "metadata": {
        "colab": {
          "base_uri": "https://localhost:8080/"
        },
        "id": "2PmpVpZjOCTS",
        "outputId": "9085e981-20d3-48a1-fb7d-80b48f751d91"
      },
      "execution_count": null,
      "outputs": [
        {
          "output_type": "stream",
          "name": "stdout",
          "text": [
            "[\n",
            "  {\n",
            "    \"userId\": 3,\n",
            "    \"id\": 14,\n",
            "    \"title\": \"Clean the kitchen and organize pantry\",\n",
            "    \"body\": \"Wipe down all countertops and appliances. Sweep and mop the floor. Sort through pantry items, discarding expired products. Organize remaining items by category for easy access.\"\n",
            "  },\n",
            "  {\n",
            "    \"userId\": 1,\n",
            "    \"id\": 15,\n",
            "    \"title\": \"Mow the lawn and trim hedges\",\n",
            "    \"body\": \"Start by mowing the front lawn, then move to the backyard. Ensure to empty grass clippings into compost bin. After mowing, trim the hedges along the fence line. Clean up any debris and put away gardening tools.\"\n",
            "  },\n",
            "  {\n",
            "    \"userId\": 5,\n",
            "    \"id\": 16,\n",
            "    \"title\": \"Do laundry and fold clothes\",\n",
            "    \"body\": \"Separate clothes into whites, darks, and colors. Start with the largest load first. While waiting, gather all clean clothes from previous loads. Fold and put away all clean laundry, including towels and bedsheets.\"\n",
            "  },\n",
            "  {\n",
            "    \"userId\": 2,\n",
            "    \"id\": 17,\n",
            "    \"title\": \"Prepare weekly meal plan and grocery list\",\n",
            "    \"body\": \"Plan out meals for the upcoming week, considering family preferences and nutritional balance. Check pantry and refrigerator for items already on hand. Make a comprehensive grocery list based on the meal plan and missing ingredients.\"\n",
            "  },\n",
            "  {\n",
            "    \"userId\": 4,\n",
            "    \"id\": 18,\n",
            "    \"title\": \"Clean and organize garage\",\n",
            "    \"body\": \"Start by removing all items from garage floor and shelves. Sweep floor and wipe down surfaces. Sort items into keep, donate, and discard piles. Organize remaining items using shelving units and storage containers. Ensure frequently used items are easily accessible.\"\n",
            "  }\n",
            "]\n"
          ]
        }
      ]
    },
    {
      "cell_type": "markdown",
      "source": [
        "## With pre-fill and stop sequence"
      ],
      "metadata": {
        "id": "4KhG-SP7OZ93"
      }
    },
    {
      "cell_type": "markdown",
      "source": [
        "**Let's make sure there's no extra content at the end either**"
      ],
      "metadata": {
        "id": "FBk-59dDP2bB"
      }
    },
    {
      "cell_type": "code",
      "source": [
        "message = client.messages.create(\n",
        "    model=\"claude-3-5-sonnet-20240620\",\n",
        "    max_tokens=1000,\n",
        "    temperature=0.1,\n",
        "    stop_sequences=[\"]\"],\n",
        "    messages=[\n",
        "        {\n",
        "            \"role\": \"user\",\n",
        "            \"content\": [\n",
        "                {\n",
        "                    \"type\": \"text\",\n",
        "                    \"text\": \"I have an API endpoint that returns Todos for a Todo application. Here is an example of the response:\\n\\n<example>\\n[\\n  {\\n    \\\"userId\\\": 2,\\n    \\\"id\\\": 12,\\n    \\\"title\\\": \\\"in quibusdam tempore odit est dolorem\\\",\\n    \\\"body\\\": \\\"itaque id aut magnam\\\\npraesentium quia et ea odit et ea voluptas et\\\\nsapiente quia nihil amet occaecati quia id voluptatem\\\\nincidunt ea est distinctio odio\\\"\\n  },\\n  {\\n    \\\"userId\\\": 2,\\n    \\\"id\\\": 13,\\n    \\\"title\\\": \\\"dolorum ut in voluptas mollitia et saepe quo animi\\\",\\n    \\\"body\\\": \\\"aut dicta possimus sint mollitia voluptas commodi quo doloremque\\\\niste corrupti reiciendis voluptatem eius rerum\\\\nsit cumque quod eligendi laborum minima\\\\nperferendis recusandae assumenda consectetur porro architecto ipsum ipsam\\\"\\n  }\\n]\\n</example>\\n\\nCan you help me generate five more examples? Here are more specific instructions:\\n\\n<instructions>\\n* Generate 5 todos following the schema above\\n* Vary the userId between 1 and 5 randomly\\n* Please make the titles and body's real sentences that might be on someone who has chores around the house's todo list for the day \\n</instructions>\"\n",
        "                }\n",
        "            ]\n",
        "        },\n",
        "        {\n",
        "            \"role\": \"assistant\",\n",
        "            \"content\": [\n",
        "                {\n",
        "                    \"type\": \"text\",\n",
        "                    \"text\": \"[\"\n",
        "                }\n",
        "            ]\n",
        "        }\n",
        "    ]\n",
        ")"
      ],
      "metadata": {
        "id": "YaFRT0nJOdLg"
      },
      "execution_count": null,
      "outputs": []
    },
    {
      "cell_type": "code",
      "source": [
        "def pretty_print_json_stop_seq(message):\n",
        "  response_text = message.content[0].text\n",
        "  recovered_json_response = f'[{response_text}]'\n",
        "\n",
        "  # Parse the JSON string\n",
        "  try:\n",
        "      parsed_json = json.loads(recovered_json_response)\n",
        "\n",
        "      # Print the formatted JSON\n",
        "      return json.dumps(parsed_json, indent=2)\n",
        "  except json.JSONDecodeError as e:\n",
        "      error_message = f\"Error parsing JSON: {e} Original content: {response_text}\"\n",
        "      return error_message"
      ],
      "metadata": {
        "id": "v_J_awsbPUeH"
      },
      "execution_count": null,
      "outputs": []
    },
    {
      "cell_type": "code",
      "source": [
        "print(pretty_print_json_stop_seq(message))"
      ],
      "metadata": {
        "colab": {
          "base_uri": "https://localhost:8080/"
        },
        "id": "OFzWttDkOgxD",
        "outputId": "bdb8e029-32aa-49b9-9435-ee6eced83c6c"
      },
      "execution_count": null,
      "outputs": [
        {
          "output_type": "stream",
          "name": "stdout",
          "text": [
            "[\n",
            "  {\n",
            "    \"userId\": 3,\n",
            "    \"id\": 14,\n",
            "    \"title\": \"Clean the kitchen and organize pantry\",\n",
            "    \"body\": \"Wipe down all countertops and appliances. Sweep and mop the floor. Sort through pantry items, discarding expired products. Organize remaining items by category for easy access.\"\n",
            "  },\n",
            "  {\n",
            "    \"userId\": 1,\n",
            "    \"id\": 15,\n",
            "    \"title\": \"Mow the lawn and trim hedges\",\n",
            "    \"body\": \"Start by mowing the front lawn, then move to the backyard. Ensure to empty grass clippings into compost bin. After mowing, trim the hedges along the fence line. Clean up any debris and put away gardening tools.\"\n",
            "  },\n",
            "  {\n",
            "    \"userId\": 5,\n",
            "    \"id\": 16,\n",
            "    \"title\": \"Do laundry and fold clothes\",\n",
            "    \"body\": \"Separate clothes into whites, darks, and colors. Run each load through washer and dryer. Once dry, fold clothes neatly and put away in respective drawers and closets. Don't forget to wash and change bed sheets.\"\n",
            "  },\n",
            "  {\n",
            "    \"userId\": 2,\n",
            "    \"id\": 17,\n",
            "    \"title\": \"Grocery shopping for the week\",\n",
            "    \"body\": \"Make a list of needed items, including fresh produce, dairy, and pantry staples. Check for any coupons or deals before heading to the store. Remember to bring reusable bags. After shopping, properly store all items and update the meal plan for the week.\"\n",
            "  },\n",
            "  {\n",
            "    \"userId\": 4,\n",
            "    \"id\": 18,\n",
            "    \"title\": \"Clean and organize garage\",\n",
            "    \"body\": \"Start by decluttering and sorting items into keep, donate, and discard piles. Sweep the floor and wipe down surfaces. Organize tools and equipment on shelves or in labeled containers. Ensure proper storage of any hazardous materials. Park vehicles back in place when finished.\"\n",
            "  }\n",
            "]\n"
          ]
        }
      ]
    }
  ]
}